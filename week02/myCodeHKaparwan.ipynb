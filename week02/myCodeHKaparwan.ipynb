{
 "cells": [
  {
   "cell_type": "code",
   "execution_count": null,
   "metadata": {},
   "outputs": [],
   "source": [
    "# Display the text “Hello World! I wonder why that is always the default coding text to start with” \n",
    "print(\"Hello World! I wonder why that is always the default coding text to start with\")\n",
    "\n",
    "#Add two numbers together\n",
    "\n",
    "num1 = 5\n",
    "num2 = 10\n",
    "sum = num1 + num2\n",
    "print(\"Add two numbers together::\", sum)\n",
    "\n",
    "#Subtract a number from another number\n",
    "num1 = 15\n",
    "num2 = 10\n",
    "subtract = num1 - num2\n",
    "print(\"subtractaction of two numbers ::\", subtract)\n",
    "\n",
    "#Multiply two numbers\n",
    "num1 = 15\n",
    "num2 = 10\n",
    "multiply = num1 * num2\n",
    "print(\"multiply of two numbers ::\", multiply)\n",
    "\n",
    "#Divide between two numbers\n",
    "num1 = 50\n",
    "num2 = 10\n",
    "divide = num1 / num2\n",
    "print(\"Divide two numbers ::\", divide)\n",
    "\n",
    "#Concatenate two strings together (any words)\n",
    "firstName = \"Harish\"\n",
    "lastName = \" Kaparwan\"\n",
    "print(\"Concatenate two strings ::\", (firstName + lastName))\n",
    "\n",
    "#Create a list of 4 items (can be strings, numbers, both)\n",
    "list = [11,22, \"test\", 11.5]\n",
    "print(\"List of 4 items\", list)\n",
    "#Append an item to your list (again, can be a string, number)\n",
    "list.append(55)\n",
    "print(\"Append item in List\", list)\n",
    "tup = (11,22, \"test\", 11.5)\n",
    "\n",
    "print(\"tup of 4 items\", tup)\n",
    "\n"
   ]
  },
  {
   "cell_type": "code",
   "execution_count": null,
   "metadata": {},
   "outputs": [],
   "source": []
  },
  {
   "cell_type": "code",
   "execution_count": null,
   "metadata": {},
   "outputs": [],
   "source": []
  }
 ],
 "metadata": {
  "kernelspec": {
   "display_name": "Python 3",
   "language": "python",
   "name": "python3"
  },
  "language_info": {
   "codemirror_mode": {
    "name": "ipython",
    "version": 3
   },
   "file_extension": ".py",
   "mimetype": "text/x-python",
   "name": "python",
   "nbconvert_exporter": "python",
   "pygments_lexer": "ipython3",
   "version": "3.8.5"
  }
 },
 "nbformat": 4,
 "nbformat_minor": 4
}
